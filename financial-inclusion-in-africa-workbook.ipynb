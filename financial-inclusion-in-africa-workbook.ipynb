{
 "cells": [
  {
   "cell_type": "code",
   "execution_count": 1,
   "id": "e3c397e5",
   "metadata": {
    "execution": {
     "iopub.execute_input": "2024-05-09T10:22:42.459951Z",
     "iopub.status.busy": "2024-05-09T10:22:42.459314Z",
     "iopub.status.idle": "2024-05-09T10:22:46.897276Z",
     "shell.execute_reply": "2024-05-09T10:22:46.896059Z"
    },
    "papermill": {
     "duration": 4.444678,
     "end_time": "2024-05-09T10:22:46.900215",
     "exception": false,
     "start_time": "2024-05-09T10:22:42.455537",
     "status": "completed"
    },
    "tags": []
   },
   "outputs": [],
   "source": [
    "import pandas as pd\n",
    "import numpy as np\n",
    "import seaborn as sns\n",
    "import matplotlib.pyplot as plt\n",
    "import scipy.stats as stats\n",
    "import statsmodels.api as sm\n",
    "from sklearn import linear_model"
   ]
  },
  {
   "cell_type": "code",
   "execution_count": null,
   "id": "57fce802",
   "metadata": {
    "papermill": {
     "duration": 0.00143,
     "end_time": "2024-05-09T10:22:46.903758",
     "exception": false,
     "start_time": "2024-05-09T10:22:46.902328",
     "status": "completed"
    },
    "tags": []
   },
   "outputs": [],
   "source": []
  }
 ],
 "metadata": {
  "kaggle": {
   "accelerator": "none",
   "dataSources": [
    {
     "datasetId": 4972072,
     "sourceId": 8364931,
     "sourceType": "datasetVersion"
    }
   ],
   "dockerImageVersionId": 30698,
   "isGpuEnabled": false,
   "isInternetEnabled": false,
   "language": "python",
   "sourceType": "notebook"
  },
  "kernelspec": {
   "display_name": "Python 3",
   "language": "python",
   "name": "python3"
  },
  "language_info": {
   "codemirror_mode": {
    "name": "ipython",
    "version": 3
   },
   "file_extension": ".py",
   "mimetype": "text/x-python",
   "name": "python",
   "nbconvert_exporter": "python",
   "pygments_lexer": "ipython3",
   "version": "3.10.13"
  },
  "papermill": {
   "default_parameters": {},
   "duration": 8.077024,
   "end_time": "2024-05-09T10:22:47.628533",
   "environment_variables": {},
   "exception": null,
   "input_path": "__notebook__.ipynb",
   "output_path": "__notebook__.ipynb",
   "parameters": {},
   "start_time": "2024-05-09T10:22:39.551509",
   "version": "2.5.0"
  }
 },
 "nbformat": 4,
 "nbformat_minor": 5
}
